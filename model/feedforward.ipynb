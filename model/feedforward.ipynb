{
 "cells": [
  {
   "cell_type": "markdown",
   "id": "c00142c2",
   "metadata": {},
   "source": [
    "# Matching params to outputs - Feedforward\n",
    "### Params from https://ars.els-cdn.com/content/image/1-s2.0-S2211124716311986-mmc2.pdf"
   ]
  },
  {
   "cell_type": "code",
   "execution_count": 1,
   "id": "494c4862",
   "metadata": {},
   "outputs": [],
   "source": [
    "import numpy as np\n",
    "import matplotlib.pyplot as plt\n",
    "import os\n",
    "import itertools\n",
    "import copy\n",
    "\n",
    "import lmfit\n",
    "from lmfit import Model, Parameters\n",
    "\n",
    "from scipy.special import i0 as I0\n",
    "from scipy.interpolate import UnivariateSpline\n",
    "\n",
    "from tqdm import tqdm\n",
    "\n",
    "from joblib import Parallel, delayed"
   ]
  },
  {
   "cell_type": "code",
   "execution_count": 2,
   "id": "f54b3467",
   "metadata": {},
   "outputs": [],
   "source": [
    "import matplotlib\n",
    "matplotlib.rcParams['pdf.fonttype'] = 42\n",
    "matplotlib.rcParams['ps.fonttype'] = 42"
   ]
  },
  {
   "cell_type": "markdown",
   "id": "b9f62d31",
   "metadata": {},
   "source": [
    "## Fitting functions"
   ]
  },
  {
   "cell_type": "code",
   "execution_count": 3,
   "id": "727860ba",
   "metadata": {},
   "outputs": [],
   "source": [
    "def tuning_function(x, mu, kappa, fmax, bsl):\n",
    "    # Von Mises, with kappa the concentration, mu the location, I0 Bessel order 0\n",
    "    # fmax the firing rate at pref ori, bsl the min firing rate (not the baseline, which was substracted) \n",
    "    tf = np.exp((kappa)*np.cos((x-mu)))#/(2*np.pi*I0(kappa))\n",
    "    tf = norm_data(tf)\n",
    "    tf *= fmax\n",
    "    tf += bsl\n",
    "    return tf\n",
    "\n",
    "def fit_tc(array, init_kappa):\n",
    "    x = np.linspace(-np.pi, np.pi, len(array))\n",
    "    y = array\n",
    "    \n",
    "    mod = Model(tuning_function)\n",
    "    pars = Parameters()\n",
    "    pars.add_many(('mu', 0, False, 0., np.pi),\n",
    "                  ('kappa', init_kappa, True,  .1, 60.),\n",
    "                  ('fmax', np.max(array), False, 0.01, np.max(array)),\n",
    "                 ('bsl', np.min(array), False, 0.0, np.max(array)))\n",
    "\n",
    "    out = mod.fit(y, pars, x=x, nan_policy='omit')\n",
    "\n",
    "    return out.best_values"
   ]
  },
  {
   "cell_type": "code",
   "execution_count": 4,
   "id": "3c1c7ea5",
   "metadata": {},
   "outputs": [],
   "source": [
    "def nakarushton(x, rmax, c50, b, n):\n",
    "    nkr = b + (rmax-b) * ((x**n) / (x**n + c50**n))\n",
    "    return nkr\n",
    "\n",
    "def fit_nkr(array) :\n",
    "    x = np.linspace(0, 1, len(array))\n",
    "    y = np.asarray(array)\n",
    "    \n",
    "    mod = Model(nakarushton)\n",
    "    pars = Parameters()\n",
    "    \n",
    "    pars.add_many(('rmax',  np.max(y), True,  0.0,  1.), # TODO maybe move back to 200 as max\n",
    "              ('c50', .5, True,  0.001, 1.),\n",
    "              ('b', y.min(), True, 0, .8),\n",
    "              ('n', 2., True,  1., 100.))\n",
    "    '''pars.add_many(('rmax',  np.max(y), True,  0.0,  2.),\n",
    "              ('c50', .5, True,  0.001, 10.),\n",
    "              ('b', y[0], True, y[0] * .1 + .001, y[-1] * 2 ),\n",
    "              ('n', 5., True,  1., 250.))'''\n",
    "    \n",
    "    out = mod.fit(y, pars, x=x, nan_policy='omit', max_nfev = 2000)\n",
    "    return out.best_values, np.abs(1-out.residual.var() / np.var(y))"
   ]
  },
  {
   "cell_type": "markdown",
   "id": "0776cfea",
   "metadata": {},
   "source": [
    "## Helper functions"
   ]
  },
  {
   "cell_type": "code",
   "execution_count": 5,
   "id": "857408c4",
   "metadata": {},
   "outputs": [],
   "source": [
    "def norm_data(data):\n",
    "    return (data - np.min(data)) / (np.max(data) - np.min(data))"
   ]
  },
  {
   "cell_type": "code",
   "execution_count": 6,
   "id": "d83449ec",
   "metadata": {},
   "outputs": [],
   "source": [
    "def cirvar(arr) :\n",
    "    cv_thetas = np.linspace(-np.pi, np.pi, len(arr))\n",
    "    R = np.sum(arr* np.exp(2j*cv_thetas) / np.sum(arr))\n",
    "    cv = 1 - np.abs(np.real(R))\n",
    "    return cv"
   ]
  },
  {
   "cell_type": "code",
   "execution_count": 7,
   "id": "a7cfbe57",
   "metadata": {},
   "outputs": [],
   "source": [
    "def kappa_to_hwhh(kappa) :\n",
    "    # # See equation seven https://academic.oup.com/cercor/article/13/3/225/355481#5079220\n",
    "    # Only works for kappa > 0.3467\n",
    "    #hwhh = .5*np.arccos(1+ np.log((1+np.exp(-2*kappa))/2)/kappa)\n",
    "    #hwhh = hwhh * 180 / np.pi\n",
    "    #hwhh = np.arccos((np.log(.5) + kappa) / kappa) * 180 / np.pi\n",
    "    hwhh = .5 * np.arccos( (np.log(.5)+kappa)/kappa) * 180 /np.pi\n",
    "    return hwhh\n",
    "\n",
    "def hwhh_to_btheta(hwhh) :\n",
    "    # Quoth https://github.com/NeuralEnsemble/MotionClouds/blob/master/MotionClouds/MotionClouds.py#L246\n",
    "    # HWHH = np.sqrt(2*Bt**2*np.log(2))\n",
    "    # HWHH**2 = 2*Bt**2*np.log(2)\n",
    "    # (HWHH**2)/2 = Bt**2*np.log(2)\n",
    "    # (HWHH**2)/(2*np.log(2)) = Bt**2\n",
    "    # Bt = np.sqrt((HWHH**2)/(2*np.log(2)))\n",
    "    bt = hwhh**2\n",
    "    bt = bt / 2\n",
    "    bt = bt / np.log(2)\n",
    "    bt = np.sqrt(bt)\n",
    "    return bt # in degrees, if the input is in degree\n",
    "\n",
    "def kappa_to_btheta(kappa) :\n",
    "    hwhh = kappa_to_hwhh(kappa)\n",
    "    btheta = hwhh_to_btheta(hwhh)\n",
    "    return hwhh"
   ]
  },
  {
   "cell_type": "markdown",
   "id": "d680c474",
   "metadata": {},
   "source": [
    "## Simulator functions"
   ]
  },
  {
   "cell_type": "code",
   "execution_count": 8,
   "id": "46b8c846",
   "metadata": {},
   "outputs": [],
   "source": [
    "def make_kernel(kappae, kappai) :\n",
    "    # making the probabilistic connection patterns\n",
    "    exc_prob = tuning_function(orientation_space, 0, kappae, 1, 0)\n",
    "    exc_prob /= np.sum(exc_prob)\n",
    "    inh_prob = tuning_function(orientation_space, 0, kappai, 1, 0)\n",
    "    inh_prob /= np.sum(inh_prob)\n",
    "    \n",
    "    return exc_prob, inh_prob"
   ]
  },
  {
   "cell_type": "code",
   "execution_count": 9,
   "id": "9bcdf9cc",
   "metadata": {},
   "outputs": [],
   "source": [
    "def simulate(thetas, kappa_input, \n",
    "             Je, Ji, kappae, kappai, Jlgn, kappa_lgn,\n",
    "             duration, n, \n",
    "             idx_recorded_neuron,\n",
    "             do_RF = False) :\n",
    "    '''\n",
    "    This is a wrapper around the single_simulation function, which allows to run multiple \n",
    "    sims with different theta_input, in order to build a single neuron TC\n",
    "    \n",
    "    A better way would be to record all output possible for all neurons and average out but \n",
    "    that's for later :)\n",
    "    '''\n",
    "    \n",
    "    single_neuron_fr = []\n",
    "    all_outputs = []\n",
    "    for itheta, theta in enumerate(thetas) :\n",
    "        output = single_simulation(mu_input = theta, kappa_input = kappa_input,\n",
    "                                 Je = Je, Ji = Ji, kappae = kappae, kappai = kappai,\n",
    "                                 Jlgn = Jlgn, kappa_lgn = kappa_lgn,\n",
    "                                 duration = duration, n = n, do_RF = do_RF)\n",
    "        single_neuron_fr.append(output['model_outputs'][-1, idx_recorded_neuron])\n",
    "    \n",
    "    output['single_neuron_fr'] = single_neuron_fr\n",
    "    del output['mu_input'] #irrelevant, this is a single run's theta, so can only indice confusion\n",
    "    del output['model_outputs'] #simpler\n",
    "    del output['V'] #simpler\n",
    "    return output"
   ]
  },
  {
   "cell_type": "code",
   "execution_count": 10,
   "id": "017a48e0",
   "metadata": {},
   "outputs": [],
   "source": [
    "def single_simulation(mu_input, kappa_input, \n",
    "                     Je, Ji, kappae, kappai, Jlgn, kappa_lgn,\n",
    "                     duration, n, do_RF = False) :\n",
    "    \n",
    "    output = {'mu_input' : mu_input, 'kappa_input' : kappa_input,\n",
    "              'Je' : Je, 'Ji' : Ji, 'kappae' : kappae, 'kappai' : kappai,\n",
    "              'Jlgn' : Jlgn, 'kappa_lgn' : kappa_lgn,\n",
    "              'duration' : duration, 'n' : n, 'do_RF' : do_RF}\n",
    "    \n",
    "    # Initializes the array of inputs\n",
    "    model_inputs = tuning_function(orientation_space,mu_input, \n",
    "                                  kappa_input, 1,0)\n",
    "    \n",
    "    if do_RF :\n",
    "        # Multiplies the \"LGN\" input with a receptive field\n",
    "        RF = tuning_function(orientation_space, mu_input, kappa_lgn, 1, 0)\n",
    "        model_inputs = np.convolve(model_inputs, RF, mode = 'same')\n",
    "        #model_inputs *= RF\n",
    "    \n",
    "    # Reshaping\n",
    "    model_inputs = np.repeat(model_inputs, duration, axis = -1)\n",
    "    model_inputs = model_inputs.reshape((n, duration)).T\n",
    "    \n",
    "    # Kernel of response by probability distributions\n",
    "    exc_prob, inh_prob = make_kernel(kappae, kappai)\n",
    "    kernel = exc_prob*Je - inh_prob*Ji\n",
    "    fourier_j_ctx = np.fft.fft(kernel*.5)\n",
    "\n",
    "    # Make the movie\n",
    "    model_outputs = Rrest * np.ones((duration, n))\n",
    "    \n",
    "    # Voltage of the model\n",
    "    V = Rrest / alpha * np.ones((1,n))\n",
    "    \n",
    "    # Main iteration\n",
    "    for it in range(1, duration) :\n",
    "        Vlgn = Jlgn * model_inputs[it-1,:] # Voltage of input\n",
    "\n",
    "        fourier_output = np.fft.fft(model_outputs[it-1,:])/n # transforms the output into fourier\n",
    "        Vctx = n*np.real(np.fft.ifft(fourier_j_ctx*fourier_output)) # and makes it the output\n",
    "        V = V+(-V + Vlgn + Vctx)*(dt/tau) # keeping track of membrane potentials\n",
    "\n",
    "        model_outputs[it,:] = np.round(alpha * np.maximum(V, 0)* 10000)/10000 # and rectifcation\n",
    "        \n",
    "    output['model_inputs'] = model_inputs[:10,:] # we just keep the beginning\n",
    "    output['model_outputs'] = model_outputs\n",
    "    output['V'] = V\n",
    "    return output"
   ]
  },
  {
   "cell_type": "markdown",
   "id": "1c3be63b",
   "metadata": {},
   "source": [
    "## Data analysis functions"
   ]
  },
  {
   "cell_type": "code",
   "execution_count": 11,
   "id": "7b5a579b",
   "metadata": {},
   "outputs": [],
   "source": [
    "def filter_nkr_array(nkr_array, dico_bounds, r2_min = .9, verbose = True) :\n",
    "    # Filters a NKR array by a list of dictionnaries, shape of \n",
    "    # 'var' : key , 'min' : 0, 'max' : 1\n",
    "    #ilt_array = copy.copy(nkr_array)\n",
    "    \n",
    "    '''for filt in dico_bounds :\n",
    "        for i, el in enumerate(filt_array) :\n",
    "            if el['nkr_fit'][0][filt['var']] > filt['min'] :\n",
    "                if el['nkr_fit'][0][filt['var']] < filt['max'] :\n",
    "                    if el['nkr_fit'][1] >= r2_min: \n",
    "                        print(el['nkr_fit'][0]['b'])\n",
    "                        pass\n",
    "                    else :\n",
    "                        del filt_array[i]\n",
    "                else :\n",
    "                    del filt_array[i]\n",
    "            else :\n",
    "                del filt_array[i]\n",
    "        print(i)\n",
    "    if verbose : print('In size : %s -- Out size : %s' % (len(nkr_array), len(filt_array)))\n",
    "    return filt_array'''\n",
    "    lst = copy.copy(nkr_array)\n",
    "    for bounds in dico_bounds :\n",
    "        lst= [x for x in lst if bounds['min'] <= x['nkr_fit'][0][bounds['var']] <= bounds['max']]\n",
    "    lst = [x for x in lst if x['nkr_fit'][1] >= r2_min]\n",
    "    if verbose : print('In size : %s -- Out size : %s' % (len(nkr_array), len(lst)))\n",
    "    return lst"
   ]
  },
  {
   "cell_type": "markdown",
   "id": "caee4c0a",
   "metadata": {},
   "source": [
    "## Plotting functions"
   ]
  },
  {
   "cell_type": "code",
   "execution_count": 12,
   "id": "48649d62",
   "metadata": {},
   "outputs": [],
   "source": [
    "def plot_kernel(Je, Ji, kappae, kappai) :\n",
    "    fig, axs = plt.subplots(figsize = (10,5), ncols = 2)\n",
    "\n",
    "    exc_prob, inh_prob = make_kernel(Je, Ji, kappae, kappai)\n",
    "    axs[0].plot(orientation_space, exc_prob)\n",
    "    axs[0].plot(orientation_space, inh_prob)\n",
    "    axs[0].set_title('Proba distribution')\n",
    "\n",
    "    axs[1].plot(exc_prob*Je - inh_prob*Ji)\n",
    "    axs[1].set_title('Cortical kernel')\n",
    "    plt.show()"
   ]
  },
  {
   "cell_type": "code",
   "execution_count": 13,
   "id": "782ec44c",
   "metadata": {},
   "outputs": [],
   "source": [
    "def plot_I_O_tcs(outputs) :\n",
    "    # plots the TCs of the input and the TCs of the output\n",
    "    # Has to be organized in the length of kappa_inputs\n",
    "    fig, axs = plt.subplots(figsize = (12,5), ncols = 2)\n",
    "    cols = plt.cm.viridis(np.linspace(0, 1., len(kappa_inputs)))\n",
    "    \n",
    "    hwhh_inputs = kappa_to_hwhh(kappa_inputs)\n",
    "    for i0, _ in enumerate(outputs) :\n",
    "        # Hack of the year\n",
    "        if i0 == 0 or i0 == len(kappa_inputs)-1 or i0 == len(kappa_inputs)//2 :\n",
    "            label = '%.2f' %hwhh_inputs[i0]\n",
    "        else :\n",
    "            label = '_nolabel_' #turns out everything with an underscore is skipped\n",
    "            \n",
    "        axs[0].plot(orientation_space, outputs[i0]['model_inputs'][1,:], color = cols[i0], \n",
    "                   label = label)\n",
    "        axs[1].plot(thetas, outputs[i0]['single_neuron_fr'], color = cols[i0])\n",
    "        \n",
    "    axs[0].legend(title = 'HWHH')\n",
    "    axs[0].set_title('Input TC to the model')\n",
    "    axs[1].set_title('Output TC of the model')\n",
    "    \n",
    "    return fig, axs"
   ]
  },
  {
   "cell_type": "code",
   "execution_count": 14,
   "id": "53a36cfc",
   "metadata": {},
   "outputs": [],
   "source": [
    "def plot_I_O_neurometric(outputs, ax, color, label = '_nolabel_',\n",
    "                        metric = 'hwhh') :\n",
    "    y = []\n",
    "    for sim in outputs :\n",
    "        if metric == 'hwhh' :\n",
    "            kappa = fit_tc(sim['single_neuron_fr'], init_kappa = sim['kappa_input'])['kappa']\n",
    "            y.append(kappa_to_hwhh(kappa))\n",
    "        elif metric == 'cv' :\n",
    "            y.append(cirvar(sim['single_neuron_fr']))\n",
    "        \n",
    "    ax.plot(kappa_to_hwhh(kappa_inputs), y, color = color, label = label)\n",
    "    \n",
    "    return ax"
   ]
  },
  {
   "cell_type": "markdown",
   "id": "0f282fb2",
   "metadata": {},
   "source": [
    "# Default parameters and a single run"
   ]
  },
  {
   "cell_type": "code",
   "execution_count": 15,
   "id": "3db505a1",
   "metadata": {},
   "outputs": [],
   "source": [
    "n = 256# number of neurons\n",
    "duration = 150 # ms\n",
    "orientation_space = np.linspace(-np.pi, np.pi, n)\n",
    "\n",
    "alpha = 10.6 #gain of voltage to FR\n",
    "Rrest = 0 # resting firing rate\n",
    "tau = 10.8 # membrane time constant (ms)\n",
    "dt = 1 # simulation step time\n",
    "\n",
    "Jlgn = 9.57\n",
    "Je, Ji = 1.71, 2.0178 # see notebook on notability for the maths\n",
    "Je, Ji = 0,0\n",
    "kappae, kappai  = 1.59, 1.16\n",
    "kappa_lgn = 1.56"
   ]
  },
  {
   "cell_type": "code",
   "execution_count": 16,
   "id": "3f9f0f95",
   "metadata": {},
   "outputs": [],
   "source": [
    "metric = 'cv' # cv or hwhh, depending on what we're measuring for the output TC"
   ]
  },
  {
   "cell_type": "code",
   "execution_count": 17,
   "id": "c38556f4",
   "metadata": {},
   "outputs": [],
   "source": [
    "N_thetas = 64 # number of oriented stims, to build a single neuron tuning curve\n",
    "offset = np.pi/10 # avoid border effects\n",
    "thetas = np.linspace(-np.pi+offset, np.pi-offset, N_thetas)"
   ]
  },
  {
   "cell_type": "code",
   "execution_count": 18,
   "id": "8d78ed20",
   "metadata": {},
   "outputs": [],
   "source": [
    "kappa_inputs = np.linspace(22.85, .7625, 50) # 6 to 36 ° of btheta\n",
    "kappas_lgns = np.linspace(20, .05, 50) # 10 to 36° of HWHH, it's what we have in the data\n",
    "\n",
    "#shape is inputs, kappaes, kappais\n",
    "iter_prod = list(itertools.product(range(len(kappa_inputs)),\n",
    "                                   range(len(kappas_lgns))))"
   ]
  },
  {
   "cell_type": "code",
   "execution_count": 19,
   "id": "bb4bd6b7",
   "metadata": {},
   "outputs": [
    {
     "name": "stderr",
     "output_type": "stream",
     "text": [
      "Simulating: 100%|██████████| 2500/2500 [05:00<00:00,  8.33it/s]\n"
     ]
    }
   ],
   "source": [
    "output_sims = Parallel(n_jobs = -1)(delayed(simulate)(\n",
    "                            thetas = thetas, kappa_input = kappa_inputs[it[0]],\n",
    "                            Je = Je, Ji = Ji,\n",
    "                            kappae = kappae, kappai = kappai,\n",
    "                            Jlgn = Jlgn, kappa_lgn = kappas_lgns[it[1]], duration = duration, n = n,\n",
    "                            idx_recorded_neuron = n//2,\n",
    "                            do_RF = True)\n",
    "            for it in tqdm(iter_prod, desc = 'Simulating', total = len(iter_prod)))"
   ]
  },
  {
   "cell_type": "code",
   "execution_count": 20,
   "id": "d38baf7a",
   "metadata": {},
   "outputs": [
    {
     "name": "stderr",
     "output_type": "stream",
     "text": [
      "Rebuilding the PRFs: 100%|██████████| 50/50 [00:00<00:00, 74.52it/s]\n"
     ]
    }
   ],
   "source": [
    "nkr_array = []\n",
    "failed_fits = 0\n",
    "for this_scan_kappa_lgn in tqdm(kappas_lgns, 'Rebuilding the PRFs') :\n",
    "    # Filtering the outputs\n",
    "    outputs = [x for x in output_sims if x['kappa_lgn'] == this_scan_kappa_lgn]\n",
    "    sorted_out = sorted(outputs, key = lambda d : d['kappa_input'], reverse = True)\n",
    "\n",
    "    try :\n",
    "        y = []\n",
    "        for sim in sorted_out :\n",
    "            if metric == 'hwhh' :\n",
    "                kappa = fit_tc(sim['single_neuron_fr'], init_kappa = sim['kappa_input'])['kappa']\n",
    "                y.append(kappa_to_hwhh(kappa))\n",
    "            elif metric == 'cv' :\n",
    "                y.append(cirvar(sim['single_neuron_fr']))\n",
    "\n",
    "        fitted_nkr = fit_nkr(y)\n",
    "\n",
    "        nkr_array.append({'nkr_raw' : y,\n",
    "                         'nkr_fit' : fitted_nkr,\n",
    "                         'kappa_lgn' : this_scan_kappa_lgn,\n",
    "                         'metric' : metric})\n",
    "    except TypeError :\n",
    "        failed_fits +=1\n"
   ]
  },
  {
   "cell_type": "markdown",
   "id": "213811e5",
   "metadata": {},
   "source": [
    "### Plotting all the sims"
   ]
  },
  {
   "cell_type": "code",
   "execution_count": 21,
   "id": "336a18b3",
   "metadata": {},
   "outputs": [
    {
     "data": {
      "image/png": "[encoded data removed]",
      "text/plain": [
       "<Figure size 576x360 with 1 Axes>"
      ]
     },
     "metadata": {
      "needs_background": "light"
     },
     "output_type": "display_data"
    }
   ],
   "source": [
    "fig, ax = plt.subplots(figsize = (8,5))\n",
    "\n",
    "cols = plt.cm.viridis(np.linspace(0, 1., len(kappas_lgns)))\n",
    "\n",
    "btheta_inputs = kappa_to_btheta(kappa_inputs)-kappa_to_btheta(kappa_inputs[0]) # btheta = 0° is not mathematically defined\n",
    "btheta_inputs_interp = np.linspace(btheta_inputs.min(), btheta_inputs.max(), 100)\n",
    "\n",
    "for i, el in enumerate(nkr_array):\n",
    "    if i == 0 or i == len(kappas_lgns)//2 or i == len(kappas_lgns)-2 :\n",
    "        label = '%.1f' % kappa_to_hwhh(kappas_lgns[i])\n",
    "    else :\n",
    "        label = '_nonmerci_'\n",
    "    ax.plot(btheta_inputs, el['nkr_raw'],\n",
    "           color = cols[i], label = label, lw = 2)\n",
    "    \n",
    "ax.set_ylim(0,1)\n",
    "ax.set_xlim(0, 36)\n",
    "ax.set_yticks([0, .5, 1.])\n",
    "ax.set_xticks([0, 18, 36])\n",
    "\n",
    "ax.legend(frameon = False, fontsize = 12, ncol = 1)\n",
    "\n",
    "ax.spines['right'].set_visible(False)\n",
    "ax.spines['top'].set_visible(False)\n",
    "\n",
    "ax.set_xlabel(r'B$_\\theta$ (°)', fontsize = 18)\n",
    "ax.set_ylabel('Circular Variance', fontsize = 18)\n",
    "ax.tick_params(axis='both', which='major', labelsize=14)\n",
    "fig.tight_layout()\n",
    "fig.savefig('./figs/ff.pdf', format = 'pdf', dpi = 200, bbox_inches = 'tight', transparent = True)\n",
    "plt.show()"
   ]
  },
  {
   "cell_type": "markdown",
   "id": "42c5e255",
   "metadata": {},
   "source": [
    "### Plotting all the fits parameters"
   ]
  },
  {
   "cell_type": "code",
   "execution_count": 22,
   "id": "296b4075",
   "metadata": {},
   "outputs": [
    {
     "data": {
      "image/png": "[encoded data removed]",
      "text/plain": [
       "<Figure size 1440x360 with 4 Axes>"
      ]
     },
     "metadata": {
      "needs_background": "light"
     },
     "output_type": "display_data"
    }
   ],
   "source": [
    "fig, axs = plt.subplots(figsize = (20,5), ncols = 4)\n",
    "keys = ['rmax', 'c50', 'b', 'n']\n",
    "boundaries = []\n",
    "for iax, ax in enumerate(axs) :\n",
    "    vals = [x['nkr_fit'][0][keys[iax]] for x in nkr_array]\n",
    "    if keys[iax] == 'n' :\n",
    "        vals = np.log(vals)\n",
    "    ax.hist(vals)\n",
    "    ax.set_title(keys[iax], fontsize = 18)\n",
    "    boundaries.append((np.min(vals), np.max(vals)))\n",
    "fig.tight_layout()\n",
    "plt.show()"
   ]
  },
  {
   "cell_type": "code",
   "execution_count": 23,
   "id": "78f454a5",
   "metadata": {},
   "outputs": [
    {
     "data": {
      "image/png": "[encoded data removed]",
      "text/plain": [
       "<Figure size 432x288 with 1 Axes>"
      ]
     },
     "metadata": {
      "needs_background": "light"
     },
     "output_type": "display_data"
    }
   ],
   "source": [
    "rs = [x['nkr_fit'][1] for x in nkr_array]\n",
    "plt.hist(rs, bins = np.linspace(0, 1, 50))\n",
    "plt.title('R^2 distributions')\n",
    "plt.show()"
   ]
  }
 ],
 "metadata": {
  "kernelspec": {
   "display_name": "Python 3 (ipykernel)",
   "language": "python",
   "name": "python3"
  },
  "language_info": {
   "codemirror_mode": {
    "name": "ipython",
    "version": 3
   },
   "file_extension": ".py",
   "mimetype": "text/x-python",
   "name": "python",
   "nbconvert_exporter": "python",
   "pygments_lexer": "ipython3",
   "version": "3.9.12"
  }
 },
 "nbformat": 4,
 "nbformat_minor": 5
}
